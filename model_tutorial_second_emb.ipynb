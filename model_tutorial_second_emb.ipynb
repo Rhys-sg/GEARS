{
 "cells": [
  {
   "cell_type": "code",
   "execution_count": 1,
   "id": "8bebf799",
   "metadata": {},
   "outputs": [
    {
     "name": "stderr",
     "output_type": "stream",
     "text": [
      "/Users/rsorenso/Documents/GitHub/GEARS/gears_venv/lib/python3.13/site-packages/anndata/__init__.py:44: FutureWarning: Importing read_csv from `anndata` is deprecated. Import anndata.io.read_csv instead.\n",
      "  return module_get_attr_redirect(attr_name, deprecated_mapping=_DEPRECATED)\n",
      "/Users/rsorenso/Documents/GitHub/GEARS/gears_venv/lib/python3.13/site-packages/anndata/__init__.py:44: FutureWarning: Importing read_excel from `anndata` is deprecated. Import anndata.io.read_excel instead.\n",
      "  return module_get_attr_redirect(attr_name, deprecated_mapping=_DEPRECATED)\n",
      "/Users/rsorenso/Documents/GitHub/GEARS/gears_venv/lib/python3.13/site-packages/anndata/__init__.py:44: FutureWarning: Importing read_hdf from `anndata` is deprecated. Import anndata.io.read_hdf instead.\n",
      "  return module_get_attr_redirect(attr_name, deprecated_mapping=_DEPRECATED)\n",
      "/Users/rsorenso/Documents/GitHub/GEARS/gears_venv/lib/python3.13/site-packages/anndata/__init__.py:44: FutureWarning: Importing read_loom from `anndata` is deprecated. Import anndata.io.read_loom instead.\n",
      "  return module_get_attr_redirect(attr_name, deprecated_mapping=_DEPRECATED)\n",
      "/Users/rsorenso/Documents/GitHub/GEARS/gears_venv/lib/python3.13/site-packages/anndata/__init__.py:44: FutureWarning: Importing read_mtx from `anndata` is deprecated. Import anndata.io.read_mtx instead.\n",
      "  return module_get_attr_redirect(attr_name, deprecated_mapping=_DEPRECATED)\n",
      "/Users/rsorenso/Documents/GitHub/GEARS/gears_venv/lib/python3.13/site-packages/anndata/__init__.py:44: FutureWarning: Importing read_text from `anndata` is deprecated. Import anndata.io.read_text instead.\n",
      "  return module_get_attr_redirect(attr_name, deprecated_mapping=_DEPRECATED)\n",
      "/Users/rsorenso/Documents/GitHub/GEARS/gears_venv/lib/python3.13/site-packages/anndata/__init__.py:44: FutureWarning: Importing read_umi_tools from `anndata` is deprecated. Import anndata.io.read_umi_tools instead.\n",
      "  return module_get_attr_redirect(attr_name, deprecated_mapping=_DEPRECATED)\n"
     ]
    }
   ],
   "source": [
    "from gears.gears_second_emb import GEARS\n",
    "from gears import PertData"
   ]
  },
  {
   "cell_type": "code",
   "execution_count": 3,
   "id": "bbd4556e",
   "metadata": {},
   "outputs": [
    {
     "name": "stderr",
     "output_type": "stream",
     "text": [
      "Found local copy...\n",
      "Found local copy...\n",
      "Found local copy...\n",
      "These perturbations are not in the GO graph and their perturbation can thus not be predicted\n",
      "['RHOXF2BB+ctrl' 'LYL1+IER5L' 'ctrl+IER5L' 'KIAA1804+ctrl' 'IER5L+ctrl'\n",
      " 'RHOXF2BB+ZBTB25' 'RHOXF2BB+SET']\n",
      "Local copy of pyg dataset is detected. Loading...\n",
      "Done!\n",
      "Local copy of split is detected. Loading...\n",
      "Simulation split test composition:\n",
      "combo_seen0:9\n",
      "combo_seen1:43\n",
      "combo_seen2:19\n",
      "unseen_single:36\n",
      "Done!\n",
      "Creating dataloaders....\n",
      "Done!\n"
     ]
    },
    {
     "name": "stdout",
     "output_type": "stream",
     "text": [
      "here1\n"
     ]
    }
   ],
   "source": [
    "pert_data = PertData('./data')\n",
    "pert_data.load(data_name = 'norman')\n",
    "pert_data.prepare_split(split = 'simulation', seed = 1)\n",
    "pert_data.get_dataloader(batch_size = 32, test_batch_size = 128)"
   ]
  },
  {
   "cell_type": "code",
   "execution_count": 7,
   "id": "77629f19",
   "metadata": {},
   "outputs": [],
   "source": [
    "import pickle\n",
    "import torch\n",
    "\n",
    "# Load and convert custom perturbation graph\n",
    "with open(\"demo/BioGRID_graph.pkl\", \"rb\") as f:\n",
    "    G_nx = pickle.load(f)\n",
    "\n",
    "node_map = pert_data.node_map_pert\n",
    "\n",
    "def nx_to_gears_graph(G_nx, node_map):\n",
    "    valid_edges = [(u, v, d.get('weight', 1.0))\n",
    "                   for u, v, d in G_nx.edges(data=True)\n",
    "                   if u in node_map and v in node_map]\n",
    "    # shape = (2, num_edges) each column is an edge\n",
    "    edge_index = torch.LongTensor([\n",
    "        [node_map[u] for u, v, _ in valid_edges],\n",
    "        [node_map[v] for u, v, _ in valid_edges]\n",
    "    ])\n",
    "    edge_weight = torch.FloatTensor([w for _, _, w in valid_edges])\n",
    "    return edge_index, edge_weight\n",
    "\n",
    "G_BioGRID, G_BioGRID_weight = nx_to_gears_graph(G_nx, node_map)"
   ]
  },
  {
   "cell_type": "markdown",
   "id": "c1a54fb7",
   "metadata": {},
   "source": [
    "Create a model object; if you use [wandb](https://wandb.ai), you can easily track model training and evaluation by setting `weight_bias_track` to true, and specify the `proj_name` and `exp_name` that you like."
   ]
  },
  {
   "cell_type": "code",
   "execution_count": 10,
   "id": "2e5e0a7c",
   "metadata": {},
   "outputs": [
    {
     "name": "stderr",
     "output_type": "stream",
     "text": [
      "Found local copy...\n"
     ]
    }
   ],
   "source": [
    "gears_model = GEARS(pert_data, device = 'cpu', # cuda:7 not available\n",
    "                        weight_bias_track = False, \n",
    "                        proj_name = 'pertnet_1_0_dual', \n",
    "                        exp_name = 'pertnet_1_0_dual')\n",
    "gears_model.model_initialize(\n",
    "    hidden_size = 64,\n",
    "    G_BioGRID = G_BioGRID,\n",
    "    G_BioGRID_weight = G_BioGRID_weight\n",
    ")"
   ]
  },
  {
   "cell_type": "markdown",
   "id": "609e67f5",
   "metadata": {},
   "source": [
    "You can find available tunable parameters in model_initialize via"
   ]
  },
  {
   "cell_type": "code",
   "execution_count": 11,
   "id": "89e7936b",
   "metadata": {},
   "outputs": [
    {
     "data": {
      "text/plain": [
       "{'hidden_size': 'hidden dimension, default 64',\n",
       " 'num_go_gnn_layers': 'number of GNN layers for GO graph, default 1',\n",
       " 'num_gene_gnn_layers': 'number of GNN layers for co-expression gene graph, default 1',\n",
       " 'decoder_hidden_size': 'hidden dimension for gene-specific decoder, default 16',\n",
       " 'num_similar_genes_go_graph': 'number of maximum similar K genes in the GO graph, default 20',\n",
       " 'num_similar_genes_co_express_graph': 'number of maximum similar K genes in the co expression graph, default 20',\n",
       " 'coexpress_threshold': 'pearson correlation threshold when constructing coexpression graph, default 0.4',\n",
       " 'uncertainty': 'whether or not to turn on uncertainty mode, default False',\n",
       " 'uncertainty_reg': 'regularization term to balance uncertainty loss and prediction loss, default 1',\n",
       " 'direction_lambda': 'regularization term to balance direction loss and prediction loss, default 1'}"
      ]
     },
     "execution_count": 11,
     "metadata": {},
     "output_type": "execute_result"
    }
   ],
   "source": [
    "gears_model.tunable_parameters()"
   ]
  },
  {
   "cell_type": "markdown",
   "id": "0d66ec3f",
   "metadata": {},
   "source": [
    "Train your model:\n",
    "\n",
    "Note: For the sake of demo, we set epoch size to 1. To get full model, set `epochs = 20`."
   ]
  },
  {
   "cell_type": "code",
   "execution_count": 12,
   "id": "61ac4ce1",
   "metadata": {
    "scrolled": true
   },
   "outputs": [
    {
     "name": "stderr",
     "output_type": "stream",
     "text": [
      "Start Training...\n",
      "Epoch 1 Step 1 Train Loss: 0.5063\n",
      "Epoch 1 Step 51 Train Loss: 0.4738\n",
      "Epoch 1 Step 101 Train Loss: 0.5014\n",
      "Epoch 1 Step 151 Train Loss: 0.4370\n",
      "Epoch 1 Step 201 Train Loss: 0.4209\n",
      "Epoch 1 Step 251 Train Loss: 0.5085\n",
      "Epoch 1 Step 301 Train Loss: 0.5208\n",
      "Epoch 1 Step 351 Train Loss: 0.4528\n",
      "Epoch 1 Step 401 Train Loss: 0.4527\n",
      "Epoch 1 Step 451 Train Loss: 0.5220\n",
      "Epoch 1 Step 501 Train Loss: 0.5892\n",
      "Epoch 1 Step 551 Train Loss: 0.4842\n",
      "Epoch 1 Step 601 Train Loss: 0.4385\n",
      "Epoch 1 Step 651 Train Loss: 0.5087\n",
      "Epoch 1 Step 701 Train Loss: 0.6120\n",
      "Epoch 1 Step 751 Train Loss: 0.4599\n",
      "Epoch 1 Step 801 Train Loss: 0.4192\n",
      "Epoch 1 Step 851 Train Loss: 0.4145\n",
      "Epoch 1 Step 901 Train Loss: 0.4816\n",
      "Epoch 1 Step 951 Train Loss: 0.5403\n"
     ]
    },
    {
     "ename": "KeyboardInterrupt",
     "evalue": "",
     "output_type": "error",
     "traceback": [
      "\u001b[31m---------------------------------------------------------------------------\u001b[39m",
      "\u001b[31mKeyboardInterrupt\u001b[39m                         Traceback (most recent call last)",
      "\u001b[36mCell\u001b[39m\u001b[36m \u001b[39m\u001b[32mIn[12]\u001b[39m\u001b[32m, line 1\u001b[39m\n\u001b[32m----> \u001b[39m\u001b[32m1\u001b[39m \u001b[43mgears_model\u001b[49m\u001b[43m.\u001b[49m\u001b[43mtrain\u001b[49m\u001b[43m(\u001b[49m\u001b[43mepochs\u001b[49m\u001b[43m \u001b[49m\u001b[43m=\u001b[49m\u001b[43m \u001b[49m\u001b[32;43m1\u001b[39;49m\u001b[43m,\u001b[49m\u001b[43m \u001b[49m\u001b[43mlr\u001b[49m\u001b[43m \u001b[49m\u001b[43m=\u001b[49m\u001b[43m \u001b[49m\u001b[32;43m1e-3\u001b[39;49m\u001b[43m)\u001b[49m\n",
      "\u001b[36mFile \u001b[39m\u001b[32m~/Documents/GitHub/GEARS/gears/gears_second_emb.py:539\u001b[39m, in \u001b[36mGEARS.train\u001b[39m\u001b[34m(self, epochs, lr, weight_decay)\u001b[39m\n\u001b[32m    534\u001b[39m     pred = \u001b[38;5;28mself\u001b[39m.model(batch)\n\u001b[32m    535\u001b[39m     loss = loss_fct(pred, y, batch.pert,\n\u001b[32m    536\u001b[39m                   ctrl = \u001b[38;5;28mself\u001b[39m.ctrl_expression, \n\u001b[32m    537\u001b[39m                   dict_filter = \u001b[38;5;28mself\u001b[39m.dict_filter,\n\u001b[32m    538\u001b[39m                   direction_lambda = \u001b[38;5;28mself\u001b[39m.config[\u001b[33m'\u001b[39m\u001b[33mdirection_lambda\u001b[39m\u001b[33m'\u001b[39m])\n\u001b[32m--> \u001b[39m\u001b[32m539\u001b[39m \u001b[43mloss\u001b[49m\u001b[43m.\u001b[49m\u001b[43mbackward\u001b[49m\u001b[43m(\u001b[49m\u001b[43m)\u001b[49m\n\u001b[32m    540\u001b[39m nn.utils.clip_grad_value_(\u001b[38;5;28mself\u001b[39m.model.parameters(), clip_value=\u001b[32m1.0\u001b[39m)\n\u001b[32m    541\u001b[39m optimizer.step()\n",
      "\u001b[36mFile \u001b[39m\u001b[32m~/Documents/GitHub/GEARS/gears_venv/lib/python3.13/site-packages/torch/_tensor.py:648\u001b[39m, in \u001b[36mTensor.backward\u001b[39m\u001b[34m(self, gradient, retain_graph, create_graph, inputs)\u001b[39m\n\u001b[32m    638\u001b[39m \u001b[38;5;28;01mif\u001b[39;00m has_torch_function_unary(\u001b[38;5;28mself\u001b[39m):\n\u001b[32m    639\u001b[39m     \u001b[38;5;28;01mreturn\u001b[39;00m handle_torch_function(\n\u001b[32m    640\u001b[39m         Tensor.backward,\n\u001b[32m    641\u001b[39m         (\u001b[38;5;28mself\u001b[39m,),\n\u001b[32m   (...)\u001b[39m\u001b[32m    646\u001b[39m         inputs=inputs,\n\u001b[32m    647\u001b[39m     )\n\u001b[32m--> \u001b[39m\u001b[32m648\u001b[39m \u001b[43mtorch\u001b[49m\u001b[43m.\u001b[49m\u001b[43mautograd\u001b[49m\u001b[43m.\u001b[49m\u001b[43mbackward\u001b[49m\u001b[43m(\u001b[49m\n\u001b[32m    649\u001b[39m \u001b[43m    \u001b[49m\u001b[38;5;28;43mself\u001b[39;49m\u001b[43m,\u001b[49m\u001b[43m \u001b[49m\u001b[43mgradient\u001b[49m\u001b[43m,\u001b[49m\u001b[43m \u001b[49m\u001b[43mretain_graph\u001b[49m\u001b[43m,\u001b[49m\u001b[43m \u001b[49m\u001b[43mcreate_graph\u001b[49m\u001b[43m,\u001b[49m\u001b[43m \u001b[49m\u001b[43minputs\u001b[49m\u001b[43m=\u001b[49m\u001b[43minputs\u001b[49m\n\u001b[32m    650\u001b[39m \u001b[43m\u001b[49m\u001b[43m)\u001b[49m\n",
      "\u001b[36mFile \u001b[39m\u001b[32m~/Documents/GitHub/GEARS/gears_venv/lib/python3.13/site-packages/torch/autograd/__init__.py:353\u001b[39m, in \u001b[36mbackward\u001b[39m\u001b[34m(tensors, grad_tensors, retain_graph, create_graph, grad_variables, inputs)\u001b[39m\n\u001b[32m    348\u001b[39m     retain_graph = create_graph\n\u001b[32m    350\u001b[39m \u001b[38;5;66;03m# The reason we repeat the same comment below is that\u001b[39;00m\n\u001b[32m    351\u001b[39m \u001b[38;5;66;03m# some Python versions print out the first line of a multi-line function\u001b[39;00m\n\u001b[32m    352\u001b[39m \u001b[38;5;66;03m# calls in the traceback and some print out the last line\u001b[39;00m\n\u001b[32m--> \u001b[39m\u001b[32m353\u001b[39m \u001b[43m_engine_run_backward\u001b[49m\u001b[43m(\u001b[49m\n\u001b[32m    354\u001b[39m \u001b[43m    \u001b[49m\u001b[43mtensors\u001b[49m\u001b[43m,\u001b[49m\n\u001b[32m    355\u001b[39m \u001b[43m    \u001b[49m\u001b[43mgrad_tensors_\u001b[49m\u001b[43m,\u001b[49m\n\u001b[32m    356\u001b[39m \u001b[43m    \u001b[49m\u001b[43mretain_graph\u001b[49m\u001b[43m,\u001b[49m\n\u001b[32m    357\u001b[39m \u001b[43m    \u001b[49m\u001b[43mcreate_graph\u001b[49m\u001b[43m,\u001b[49m\n\u001b[32m    358\u001b[39m \u001b[43m    \u001b[49m\u001b[43minputs\u001b[49m\u001b[43m,\u001b[49m\n\u001b[32m    359\u001b[39m \u001b[43m    \u001b[49m\u001b[43mallow_unreachable\u001b[49m\u001b[43m=\u001b[49m\u001b[38;5;28;43;01mTrue\u001b[39;49;00m\u001b[43m,\u001b[49m\n\u001b[32m    360\u001b[39m \u001b[43m    \u001b[49m\u001b[43maccumulate_grad\u001b[49m\u001b[43m=\u001b[49m\u001b[38;5;28;43;01mTrue\u001b[39;49;00m\u001b[43m,\u001b[49m\n\u001b[32m    361\u001b[39m \u001b[43m\u001b[49m\u001b[43m)\u001b[49m\n",
      "\u001b[36mFile \u001b[39m\u001b[32m~/Documents/GitHub/GEARS/gears_venv/lib/python3.13/site-packages/torch/autograd/graph.py:824\u001b[39m, in \u001b[36m_engine_run_backward\u001b[39m\u001b[34m(t_outputs, *args, **kwargs)\u001b[39m\n\u001b[32m    822\u001b[39m     unregister_hooks = _register_logging_hooks_on_whole_graph(t_outputs)\n\u001b[32m    823\u001b[39m \u001b[38;5;28;01mtry\u001b[39;00m:\n\u001b[32m--> \u001b[39m\u001b[32m824\u001b[39m     \u001b[38;5;28;01mreturn\u001b[39;00m \u001b[43mVariable\u001b[49m\u001b[43m.\u001b[49m\u001b[43m_execution_engine\u001b[49m\u001b[43m.\u001b[49m\u001b[43mrun_backward\u001b[49m\u001b[43m(\u001b[49m\u001b[43m  \u001b[49m\u001b[38;5;66;43;03m# Calls into the C++ engine to run the backward pass\u001b[39;49;00m\n\u001b[32m    825\u001b[39m \u001b[43m        \u001b[49m\u001b[43mt_outputs\u001b[49m\u001b[43m,\u001b[49m\u001b[43m \u001b[49m\u001b[43m*\u001b[49m\u001b[43margs\u001b[49m\u001b[43m,\u001b[49m\u001b[43m \u001b[49m\u001b[43m*\u001b[49m\u001b[43m*\u001b[49m\u001b[43mkwargs\u001b[49m\n\u001b[32m    826\u001b[39m \u001b[43m    \u001b[49m\u001b[43m)\u001b[49m  \u001b[38;5;66;03m# Calls into the C++ engine to run the backward pass\u001b[39;00m\n\u001b[32m    827\u001b[39m \u001b[38;5;28;01mfinally\u001b[39;00m:\n\u001b[32m    828\u001b[39m     \u001b[38;5;28;01mif\u001b[39;00m attach_logging_hooks:\n",
      "\u001b[31mKeyboardInterrupt\u001b[39m: "
     ]
    }
   ],
   "source": [
    "gears_model.train(epochs = 1, lr = 1e-3)"
   ]
  },
  {
   "cell_type": "markdown",
   "id": "fe48d541",
   "metadata": {},
   "source": [
    "Save and load pretrained models:"
   ]
  },
  {
   "cell_type": "code",
   "execution_count": null,
   "id": "c514d21f",
   "metadata": {},
   "outputs": [],
   "source": [
    "gears_model.save_model('test_model_1_0_dual')\n",
    "gears_model.load_pretrained('test_model_1_0_dual')"
   ]
  },
  {
   "cell_type": "markdown",
   "id": "147b855d",
   "metadata": {},
   "source": [
    "Make prediction for new perturbation:"
   ]
  },
  {
   "cell_type": "code",
   "execution_count": null,
   "id": "ae796bdb",
   "metadata": {},
   "outputs": [],
   "source": [
    "gears_model.predict([['FEV'], ['FEV', 'AHR']])"
   ]
  },
  {
   "cell_type": "markdown",
   "id": "cdcc3f76",
   "metadata": {},
   "source": [
    "Gene list can be found here:"
   ]
  },
  {
   "cell_type": "code",
   "execution_count": null,
   "id": "8ea1eb2e",
   "metadata": {},
   "outputs": [],
   "source": [
    "gears_model.gene_list[:5]"
   ]
  }
 ],
 "metadata": {
  "kernelspec": {
   "display_name": "gears_venv",
   "language": "python",
   "name": "python3"
  },
  "language_info": {
   "codemirror_mode": {
    "name": "ipython",
    "version": 3
   },
   "file_extension": ".py",
   "mimetype": "text/x-python",
   "name": "python",
   "nbconvert_exporter": "python",
   "pygments_lexer": "ipython3",
   "version": "3.13.5"
  }
 },
 "nbformat": 4,
 "nbformat_minor": 5
}
