{
 "cells": [
  {
   "cell_type": "code",
   "execution_count": 1,
   "id": "8bebf799",
   "metadata": {},
   "outputs": [
    {
     "name": "stderr",
     "output_type": "stream",
     "text": [
      "c:\\Users\\rsore\\anaconda3\\envs\\GEARS\\Lib\\site-packages\\anndata\\utils.py:434: FutureWarning: Importing read_csv from `anndata` is deprecated. Import anndata.io.read_csv instead.\n",
      "  warnings.warn(msg, FutureWarning)\n",
      "c:\\Users\\rsore\\anaconda3\\envs\\GEARS\\Lib\\site-packages\\anndata\\utils.py:434: FutureWarning: Importing read_excel from `anndata` is deprecated. Import anndata.io.read_excel instead.\n",
      "  warnings.warn(msg, FutureWarning)\n",
      "c:\\Users\\rsore\\anaconda3\\envs\\GEARS\\Lib\\site-packages\\anndata\\utils.py:434: FutureWarning: Importing read_hdf from `anndata` is deprecated. Import anndata.io.read_hdf instead.\n",
      "  warnings.warn(msg, FutureWarning)\n",
      "c:\\Users\\rsore\\anaconda3\\envs\\GEARS\\Lib\\site-packages\\anndata\\utils.py:434: FutureWarning: Importing read_loom from `anndata` is deprecated. Import anndata.io.read_loom instead.\n",
      "  warnings.warn(msg, FutureWarning)\n",
      "c:\\Users\\rsore\\anaconda3\\envs\\GEARS\\Lib\\site-packages\\anndata\\utils.py:434: FutureWarning: Importing read_mtx from `anndata` is deprecated. Import anndata.io.read_mtx instead.\n",
      "  warnings.warn(msg, FutureWarning)\n",
      "c:\\Users\\rsore\\anaconda3\\envs\\GEARS\\Lib\\site-packages\\anndata\\utils.py:434: FutureWarning: Importing read_text from `anndata` is deprecated. Import anndata.io.read_text instead.\n",
      "  warnings.warn(msg, FutureWarning)\n",
      "c:\\Users\\rsore\\anaconda3\\envs\\GEARS\\Lib\\site-packages\\anndata\\utils.py:434: FutureWarning: Importing read_umi_tools from `anndata` is deprecated. Import anndata.io.read_umi_tools instead.\n",
      "  warnings.warn(msg, FutureWarning)\n"
     ]
    }
   ],
   "source": [
    "import sys\n",
    "sys.path.append('../')\n",
    "\n",
    "from gears import PertData, GEARS"
   ]
  },
  {
   "cell_type": "code",
   "execution_count": null,
   "id": "f921a935",
   "metadata": {},
   "outputs": [],
   "source": [
    "import pickle\n",
    "import torch\n",
    "import networkx as nx"
   ]
  },
  {
   "cell_type": "markdown",
   "id": "2b1ffd1a",
   "metadata": {},
   "source": [
    "Load data. We use norman as an example."
   ]
  },
  {
   "cell_type": "code",
   "execution_count": 3,
   "id": "3b3b1cc5",
   "metadata": {},
   "outputs": [],
   "source": [
    "import os\n",
    "os.makedirs('./data/norman/splits/data', exist_ok=True)"
   ]
  },
  {
   "cell_type": "code",
   "execution_count": 4,
   "id": "bbd4556e",
   "metadata": {},
   "outputs": [
    {
     "name": "stderr",
     "output_type": "stream",
     "text": [
      "Found local copy...\n",
      "Found local copy...\n",
      "Found local copy...\n",
      "These perturbations are not in the GO graph and their perturbation can thus not be predicted\n",
      "['RHOXF2BB+ctrl' 'LYL1+IER5L' 'ctrl+IER5L' 'KIAA1804+ctrl' 'IER5L+ctrl'\n",
      " 'RHOXF2BB+ZBTB25' 'RHOXF2BB+SET']\n",
      "Local copy of pyg dataset is detected. Loading...\n",
      "Done!\n",
      "Local copy of split is detected. Loading...\n",
      "Simulation split test composition:\n",
      "combo_seen0:9\n",
      "combo_seen1:43\n",
      "combo_seen2:19\n",
      "unseen_single:36\n",
      "Done!\n"
     ]
    },
    {
     "name": "stdout",
     "output_type": "stream",
     "text": [
      "here1\n"
     ]
    },
    {
     "name": "stderr",
     "output_type": "stream",
     "text": [
      "Creating dataloaders....\n",
      "Done!\n"
     ]
    }
   ],
   "source": [
    "pert_data = PertData('./data')\n",
    "pert_data.load(data_name = 'norman')\n",
    "pert_data.prepare_split(split = 'simulation', seed = 1)\n",
    "pert_data.get_dataloader(batch_size = 32, test_batch_size = 128)"
   ]
  },
  {
   "cell_type": "code",
   "execution_count": null,
   "id": "66782385",
   "metadata": {},
   "outputs": [],
   "source": [
    "# Load and convert GO-based to custom perturbation graph\n",
    "with open(\"BioGRID_graph.pkl\", \"rb\") as f:\n",
    "    G_nx = pickle.load(f)\n",
    "\n",
    "node_map = pert_data.node_map_pert\n",
    "\n",
    "def nx_to_gears_graph(G_nx, node_map):\n",
    "    valid_edges = [(u, v, d.get('weight', 1.0))\n",
    "                   for u, v, d in G_nx.edges(data=True)\n",
    "                   if u in node_map and v in node_map]\n",
    "    # shape = (2, num_edges) each column is an edge\n",
    "    edge_index = torch.LongTensor([\n",
    "        [node_map[u] for u, v, _ in valid_edges],\n",
    "        [node_map[v] for u, v, _ in valid_edges]\n",
    "    ])\n",
    "    edge_weight = torch.FloatTensor([w for _, _, w in valid_edges])\n",
    "    return edge_index, edge_weight\n",
    "\n",
    "G_go, G_go_weight = nx_to_gears_graph(G_nx, node_map)"
   ]
  },
  {
   "cell_type": "markdown",
   "id": "c1a54fb7",
   "metadata": {},
   "source": [
    "Create a model object; if you use [wandb](https://wandb.ai), you can easily track model training and evaluation by setting `weight_bias_track` to true, and specify the `proj_name` and `exp_name` that you like."
   ]
  },
  {
   "cell_type": "code",
   "execution_count": 8,
   "id": "520b3b73",
   "metadata": {},
   "outputs": [],
   "source": [
    "import os\n",
    "os.makedirs('data/data/norman', exist_ok=True)"
   ]
  },
  {
   "cell_type": "code",
   "execution_count": 9,
   "id": "98b9d186",
   "metadata": {},
   "outputs": [],
   "source": [
    "gears_model = GEARS(pert_data, device = 'cpu', # cuda:7 not available\n",
    "                        weight_bias_track = False, \n",
    "                        proj_name = 'pertnet_1_0', \n",
    "                        exp_name = 'pertnet_1_0')\n",
    "gears_model.model_initialize(\n",
    "    hidden_size = 64,\n",
    "    G_go = G_go,\n",
    "    G_go_weight = G_go_weight\n",
    ")"
   ]
  },
  {
   "cell_type": "markdown",
   "id": "609e67f5",
   "metadata": {},
   "source": [
    "You can find available tunable parameters in model_initialize via"
   ]
  },
  {
   "cell_type": "code",
   "execution_count": 10,
   "id": "89e7936b",
   "metadata": {},
   "outputs": [
    {
     "data": {
      "text/plain": [
       "{'hidden_size': 'hidden dimension, default 64',\n",
       " 'num_go_gnn_layers': 'number of GNN layers for GO graph, default 1',\n",
       " 'num_gene_gnn_layers': 'number of GNN layers for co-expression gene graph, default 1',\n",
       " 'decoder_hidden_size': 'hidden dimension for gene-specific decoder, default 16',\n",
       " 'num_similar_genes_go_graph': 'number of maximum similar K genes in the GO graph, default 20',\n",
       " 'num_similar_genes_co_express_graph': 'number of maximum similar K genes in the co expression graph, default 20',\n",
       " 'coexpress_threshold': 'pearson correlation threshold when constructing coexpression graph, default 0.4',\n",
       " 'uncertainty': 'whether or not to turn on uncertainty mode, default False',\n",
       " 'uncertainty_reg': 'regularization term to balance uncertainty loss and prediction loss, default 1',\n",
       " 'direction_lambda': 'regularization term to balance direction loss and prediction loss, default 1'}"
      ]
     },
     "execution_count": 10,
     "metadata": {},
     "output_type": "execute_result"
    }
   ],
   "source": [
    "gears_model.tunable_parameters()"
   ]
  },
  {
   "cell_type": "markdown",
   "id": "0d66ec3f",
   "metadata": {},
   "source": [
    "Train your model:\n",
    "\n",
    "Note: For the sake of demo, we set epoch size to 1. To get full model, set `epochs = 20`."
   ]
  },
  {
   "cell_type": "code",
   "execution_count": 11,
   "id": "61ac4ce1",
   "metadata": {
    "scrolled": true
   },
   "outputs": [
    {
     "name": "stderr",
     "output_type": "stream",
     "text": [
      "Start Training...\n",
      "Epoch 1 Step 1 Train Loss: 0.5168\n",
      "Epoch 1 Step 51 Train Loss: 0.4161\n",
      "Epoch 1 Step 101 Train Loss: 0.3633\n",
      "Epoch 1 Step 151 Train Loss: 0.5028\n",
      "Epoch 1 Step 201 Train Loss: 0.4465\n",
      "Epoch 1 Step 251 Train Loss: 0.5855\n",
      "Epoch 1 Step 301 Train Loss: 0.4471\n",
      "Epoch 1 Step 351 Train Loss: 0.4266\n",
      "Epoch 1 Step 401 Train Loss: 0.4478\n",
      "Epoch 1 Step 451 Train Loss: 0.4614\n",
      "Epoch 1 Step 501 Train Loss: 0.3947\n",
      "Epoch 1 Step 551 Train Loss: 0.4357\n",
      "Epoch 1 Step 601 Train Loss: 0.5128\n",
      "Epoch 1 Step 651 Train Loss: 0.4784\n",
      "Epoch 1 Step 701 Train Loss: 0.4481\n",
      "Epoch 1 Step 751 Train Loss: 0.5780\n",
      "Epoch 1 Step 801 Train Loss: 0.4769\n",
      "Epoch 1 Step 851 Train Loss: 0.4084\n",
      "Epoch 1 Step 901 Train Loss: 0.4370\n",
      "Epoch 1 Step 951 Train Loss: 0.4889\n",
      "Epoch 1 Step 1001 Train Loss: 0.4384\n",
      "Epoch 1 Step 1051 Train Loss: 0.4466\n",
      "Epoch 1 Step 1101 Train Loss: 0.6302\n",
      "Epoch 1 Step 1151 Train Loss: 0.4552\n",
      "Epoch 1 Step 1201 Train Loss: 0.4885\n",
      "Epoch 1 Step 1251 Train Loss: 0.4568\n",
      "Epoch 1 Step 1301 Train Loss: 0.4950\n",
      "Epoch 1 Step 1351 Train Loss: 0.4799\n",
      "Epoch 1 Step 1401 Train Loss: 0.4311\n",
      "Epoch 1 Step 1451 Train Loss: 0.5263\n",
      "Epoch 1 Step 1501 Train Loss: 0.5329\n",
      "Epoch 1 Step 1551 Train Loss: 0.4511\n",
      "Epoch 1: Train Overall MSE: 0.0030 Validation Overall MSE: 0.0036. \n",
      "Train Top 20 DE MSE: 0.1028 Validation Top 20 DE MSE: 0.2252. \n",
      "Done!\n",
      "Start Testing...\n",
      "Best performing model: Test Top 20 DE MSE: 0.2644\n",
      "Start doing subgroup analysis for simulation split...\n",
      "test_combo_seen0_mse: 0.00894977\n",
      "test_combo_seen0_pearson: 0.9730172133139763\n",
      "test_combo_seen0_mse_de: 0.33915538\n",
      "test_combo_seen0_pearson_de: 0.7073664668795472\n",
      "test_combo_seen1_mse: 0.0068289554\n",
      "test_combo_seen1_pearson: 0.9794055167163586\n",
      "test_combo_seen1_mse_de: 0.26762193\n",
      "test_combo_seen1_pearson_de: 0.834215117685575\n",
      "test_combo_seen2_mse: 0.005068566\n",
      "test_combo_seen2_pearson: 0.9849873113814184\n",
      "test_combo_seen2_mse_de: 0.23409083\n",
      "test_combo_seen2_pearson_de: 0.9119433454599714\n",
      "test_unseen_single_mse: 0.004013002\n",
      "test_unseen_single_pearson: 0.9878746848041542\n",
      "test_unseen_single_mse_de: 0.25790745\n",
      "test_unseen_single_pearson_de: 0.8498541430388147\n",
      "test_combo_seen0_pearson_delta: 0.2878870147990811\n",
      "test_combo_seen0_frac_opposite_direction_top20_non_dropout: 0.34444444444444444\n",
      "test_combo_seen0_frac_sigma_below_1_non_dropout: 0.6000000000000001\n",
      "test_combo_seen0_mse_top20_de_non_dropout: 0.55070245\n",
      "test_combo_seen1_pearson_delta: 0.4762858497909329\n",
      "test_combo_seen1_frac_opposite_direction_top20_non_dropout: 0.1988372093023256\n",
      "test_combo_seen1_frac_sigma_below_1_non_dropout: 0.6837209302325582\n",
      "test_combo_seen1_mse_top20_de_non_dropout: 0.3665402\n",
      "test_combo_seen2_pearson_delta: 0.5649251066791197\n",
      "test_combo_seen2_frac_opposite_direction_top20_non_dropout: 0.10526315789473684\n",
      "test_combo_seen2_frac_sigma_below_1_non_dropout: 0.8078947368421052\n",
      "test_combo_seen2_mse_top20_de_non_dropout: 0.25086313\n",
      "test_unseen_single_pearson_delta: 0.3297418076889531\n",
      "test_unseen_single_frac_opposite_direction_top20_non_dropout: 0.30416666666666675\n",
      "test_unseen_single_frac_sigma_below_1_non_dropout: 0.8013888888888888\n",
      "test_unseen_single_mse_top20_de_non_dropout: 0.28002384\n",
      "Done!\n"
     ]
    }
   ],
   "source": [
    "gears_model.train(epochs = 1, lr = 1e-3)"
   ]
  },
  {
   "cell_type": "markdown",
   "id": "fe48d541",
   "metadata": {},
   "source": [
    "Save and load pretrained models:"
   ]
  },
  {
   "cell_type": "code",
   "execution_count": null,
   "id": "c514d21f",
   "metadata": {},
   "outputs": [],
   "source": [
    "gears_model.save_model('test_model_BioGRID_1_0')\n",
    "gears_model.load_pretrained('test_model_BioGRID_1_0')"
   ]
  },
  {
   "cell_type": "markdown",
   "id": "147b855d",
   "metadata": {},
   "source": [
    "Make prediction for new perturbation:"
   ]
  },
  {
   "cell_type": "code",
   "execution_count": null,
   "id": "ae796bdb",
   "metadata": {},
   "outputs": [
    {
     "data": {
      "text/plain": [
       "{'FEV': array([-5.7163749e-11,  5.9469450e-02,  4.8302099e-02, ...,\n",
       "         3.4583302e+00,  1.1393473e-03, -7.8322862e-18], dtype=float32),\n",
       " 'FEV_AHR': array([-8.48831075e-11,  9.95547995e-02,  7.28517845e-02, ...,\n",
       "         3.35909700e+00,  1.02890411e-03, -1.29426535e-17], dtype=float32)}"
      ]
     },
     "execution_count": 16,
     "metadata": {},
     "output_type": "execute_result"
    }
   ],
   "source": [
    "gears_model.predict([['FEV'], ['FEV', 'AHR']])"
   ]
  },
  {
   "cell_type": "markdown",
   "id": "cdcc3f76",
   "metadata": {},
   "source": [
    "Gene list can be found here:"
   ]
  },
  {
   "cell_type": "code",
   "execution_count": null,
   "id": "8ea1eb2e",
   "metadata": {},
   "outputs": [
    {
     "data": {
      "text/plain": [
       "['RP11-34P13.8', 'RP11-54O7.3', 'SAMD11', 'PERM1', 'HES4']"
      ]
     },
     "execution_count": 17,
     "metadata": {},
     "output_type": "execute_result"
    }
   ],
   "source": [
    "gears_model.gene_list[:5]"
   ]
  }
 ],
 "metadata": {
  "kernelspec": {
   "display_name": "GEARS",
   "language": "python",
   "name": "python3"
  },
  "language_info": {
   "codemirror_mode": {
    "name": "ipython",
    "version": 3
   },
   "file_extension": ".py",
   "mimetype": "text/x-python",
   "name": "python",
   "nbconvert_exporter": "python",
   "pygments_lexer": "ipython3",
   "version": "3.11.13"
  }
 },
 "nbformat": 4,
 "nbformat_minor": 5
}
